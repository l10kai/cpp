{
 "cells": [
  {
   "cell_type": "code",
   "execution_count": 12,
   "metadata": {
    "vscode": {
     "languageId": "r"
    }
   },
   "outputs": [
    {
     "name": "stdout",
     "output_type": "stream",
     "text": [
      "[1] \"我是异史君\"\n"
     ]
    },
    {
     "data": {
      "image/png": "[encoded data removed]",
      "text/plain": [
       "plot without title"
      ]
     },
     "metadata": {
      "image/png": {
       "height": 420,
       "width": 420
      }
     },
     "output_type": "display_data"
    },
    {
     "data": {
      "text/html": [
       "<table class=\"dataframe\">\n",
       "<caption>A data.frame: 4 × 5</caption>\n",
       "<thead>\n",
       "\t<tr><th scope=col>C1</th><th scope=col>C2</th><th scope=col>C3</th><th scope=col>C4</th><th scope=col>C5</th></tr>\n",
       "\t<tr><th scope=col>&lt;dbl&gt;</th><th scope=col>&lt;dbl&gt;</th><th scope=col>&lt;dbl&gt;</th><th scope=col>&lt;dbl&gt;</th><th scope=col>&lt;dbl&gt;</th></tr>\n",
       "</thead>\n",
       "<tbody>\n",
       "\t<tr><td>1</td><td>1</td><td>1</td><td>1</td><td>1</td></tr>\n",
       "\t<tr><td>2</td><td>2</td><td>2</td><td>2</td><td>2</td></tr>\n",
       "\t<tr><td>3</td><td>3</td><td>3</td><td>3</td><td>3</td></tr>\n",
       "\t<tr><td>4</td><td>4</td><td>4</td><td>4</td><td>4</td></tr>\n",
       "</tbody>\n",
       "</table>\n"
      ],
      "text/latex": [
       "A data.frame: 4 × 5\n",
       "\\begin{tabular}{lllll}\n",
       " C1 & C2 & C3 & C4 & C5\\\\\n",
       " <dbl> & <dbl> & <dbl> & <dbl> & <dbl>\\\\\n",
       "\\hline\n",
       "\t 1 & 1 & 1 & 1 & 1\\\\\n",
       "\t 2 & 2 & 2 & 2 & 2\\\\\n",
       "\t 3 & 3 & 3 & 3 & 3\\\\\n",
       "\t 4 & 4 & 4 & 4 & 4\\\\\n",
       "\\end{tabular}\n"
      ],
      "text/markdown": [
       "\n",
       "A data.frame: 4 × 5\n",
       "\n",
       "| C1 &lt;dbl&gt; | C2 &lt;dbl&gt; | C3 &lt;dbl&gt; | C4 &lt;dbl&gt; | C5 &lt;dbl&gt; |\n",
       "|---|---|---|---|---|\n",
       "| 1 | 1 | 1 | 1 | 1 |\n",
       "| 2 | 2 | 2 | 2 | 2 |\n",
       "| 3 | 3 | 3 | 3 | 3 |\n",
       "| 4 | 4 | 4 | 4 | 4 |\n",
       "\n"
      ],
      "text/plain": [
       "  C1 C2 C3 C4 C5\n",
       "1 1  1  1  1  1 \n",
       "2 2  2  2  2  2 \n",
       "3 3  3  3  3  3 \n",
       "4 4  4  4  4  4 "
      ]
     },
     "metadata": {},
     "output_type": "display_data"
    },
    {
     "data": {
      "image/png": "[encoded data removed]",
      "text/plain": [
       "Plot with title \"Chart\""
      ]
     },
     "metadata": {
      "image/png": {
       "height": 420,
       "width": 420
      }
     },
     "output_type": "display_data"
    }
   ],
   "source": [
    "a <- rnorm(100)\n",
    "plot(a)\n",
    "print(\"我是异史君\")\n",
    "\n",
    "\n",
    "h <- c(1, 2, 3, 4, 5, 6)\n",
    "M <- c(\"A\", \"B\", \"C\", \"D\", \"E\", \"F\")\n",
    "barplot(\n",
    "    h,\n",
    "    names.arg = M,\n",
    "    xlab = \"X\",\n",
    "    ylab = \"Y\",\n",
    "    col = \"#00c0c9\",\n",
    "    main = \"Chart\",\n",
    "    border = \"#fdcb6e\"\n",
    ")\n",
    "\n",
    "\n",
    "C1 <- c(1, 2, 3, 4)\n",
    "C2 <- c(1, 2, 3, 4)\n",
    "C3 <- c(1, 2, 3, 4)\n",
    "C4 <- c(1, 2, 3, 4)\n",
    "C5 <- c(1, 2, 3, 4)\n",
    "mydata_frame <- data.frame(C1, C2, C3, C4, C5)\n",
    "View(mydata_frame)\n"
   ]
  },
  {
   "cell_type": "code",
   "execution_count": 13,
   "metadata": {
    "vscode": {
     "languageId": "r"
    }
   },
   "outputs": [
    {
     "data": {
      "text/html": [
       "<style>\n",
       ".list-inline {list-style: none; margin:0; padding: 0}\n",
       ".list-inline>li {display: inline-block}\n",
       ".list-inline>li:not(:last-child)::after {content: \"\\00b7\"; padding: 0 .5ex}\n",
       "</style>\n",
       "<ol class=list-inline><li>'x'</li><li>'x'</li><li>'x'</li></ol>\n"
      ],
      "text/latex": [
       "\\begin{enumerate*}\n",
       "\\item 'x'\n",
       "\\item 'x'\n",
       "\\item 'x'\n",
       "\\end{enumerate*}\n"
      ],
      "text/markdown": [
       "1. 'x'\n",
       "2. 'x'\n",
       "3. 'x'\n",
       "\n",
       "\n"
      ],
      "text/plain": [
       "[1] \"x\" \"x\" \"x\""
      ]
     },
     "metadata": {},
     "output_type": "display_data"
    },
    {
     "data": {
      "text/html": [
       "<style>\n",
       ".list-inline {list-style: none; margin:0; padding: 0}\n",
       ".list-inline>li {display: inline-block}\n",
       ".list-inline>li:not(:last-child)::after {content: \"\\00b7\"; padding: 0 .5ex}\n",
       "</style>\n",
       "<ol class=list-inline><li>3</li><li>6</li><li>9</li><li>12</li><li>15</li><li>18</li><li>21</li></ol>\n"
      ],
      "text/latex": [
       "\\begin{enumerate*}\n",
       "\\item 3\n",
       "\\item 6\n",
       "\\item 9\n",
       "\\item 12\n",
       "\\item 15\n",
       "\\item 18\n",
       "\\item 21\n",
       "\\end{enumerate*}\n"
      ],
      "text/markdown": [
       "1. 3\n",
       "2. 6\n",
       "3. 9\n",
       "4. 12\n",
       "5. 15\n",
       "6. 18\n",
       "7. 21\n",
       "\n",
       "\n"
      ],
      "text/plain": [
       "[1]  3  6  9 12 15 18 21"
      ]
     },
     "metadata": {},
     "output_type": "display_data"
    },
    {
     "data": {
      "text/html": [
       "<style>\n",
       ".list-inline {list-style: none; margin:0; padding: 0}\n",
       ".list-inline>li {display: inline-block}\n",
       ".list-inline>li:not(:last-child)::after {content: \"\\00b7\"; padding: 0 .5ex}\n",
       "</style>\n",
       "<ol class=list-inline><li>0.518905964071863</li><li>1.59675118695806</li><li>-0.312300646209404</li></ol>\n"
      ],
      "text/latex": [
       "\\begin{enumerate*}\n",
       "\\item 0.518905964071863\n",
       "\\item 1.59675118695806\n",
       "\\item -0.312300646209404\n",
       "\\end{enumerate*}\n"
      ],
      "text/markdown": [
       "1. 0.518905964071863\n",
       "2. 1.59675118695806\n",
       "3. -0.312300646209404\n",
       "\n",
       "\n"
      ],
      "text/plain": [
       "[1]  0.5189060  1.5967512 -0.3123006"
      ]
     },
     "metadata": {},
     "output_type": "display_data"
    }
   ],
   "source": [
    "rep(\"x\", times = 3)\n",
    "seq(from = 3, to = 21, by = 3) # 从3开始到21，每3个数取一个数\n",
    "rnorm(n = 3) # 生成3个随机数\n"
   ]
  },
  {
   "cell_type": "code",
   "execution_count": 14,
   "metadata": {
    "vscode": {
     "languageId": "r"
    }
   },
   "outputs": [
    {
     "data": {
      "text/html": [
       "<style>\n",
       ".dl-inline {width: auto; margin:0; padding: 0}\n",
       ".dl-inline>dt, .dl-inline>dd {float: none; width: auto; display: inline-block}\n",
       ".dl-inline>dt::after {content: \":\\0020\"; padding-right: .5ex}\n",
       ".dl-inline>dt:not(:first-of-type) {padding-left: .5ex}\n",
       "</style><dl class=dl-inline><dt>jimmy</dt><dd>100</dd><dt>nicker</dt><dd>59</dd><dt>Damon</dt><dd>73</dd><dt>Sophie</dt><dd>95</dd><dt>tony</dt><dd>45</dd></dl>\n"
      ],
      "text/latex": [
       "\\begin{description*}\n",
       "\\item[jimmy] 100\n",
       "\\item[nicker] 59\n",
       "\\item[Damon] 73\n",
       "\\item[Sophie] 95\n",
       "\\item[tony] 45\n",
       "\\end{description*}\n"
      ],
      "text/markdown": [
       "jimmy\n",
       ":   100nicker\n",
       ":   59Damon\n",
       ":   73Sophie\n",
       ":   95tony\n",
       ":   45\n",
       "\n"
      ],
      "text/plain": [
       " jimmy nicker  Damon Sophie   tony \n",
       "   100     59     73     95     45 "
      ]
     },
     "metadata": {},
     "output_type": "display_data"
    },
    {
     "data": {
      "text/html": [
       "<strong>jimmy:</strong> 100"
      ],
      "text/latex": [
       "\\textbf{jimmy:} 100"
      ],
      "text/markdown": [
       "**jimmy:** 100"
      ],
      "text/plain": [
       "jimmy \n",
       "  100 "
      ]
     },
     "metadata": {},
     "output_type": "display_data"
    },
    {
     "data": {
      "text/html": [
       "<style>\n",
       ".dl-inline {width: auto; margin:0; padding: 0}\n",
       ".dl-inline>dt, .dl-inline>dd {float: none; width: auto; display: inline-block}\n",
       ".dl-inline>dt::after {content: \":\\0020\"; padding-right: .5ex}\n",
       ".dl-inline>dt:not(:first-of-type) {padding-left: .5ex}\n",
       "</style><dl class=dl-inline><dt>jimmy</dt><dd>100</dd><dt>nicker</dt><dd>59</dd></dl>\n"
      ],
      "text/latex": [
       "\\begin{description*}\n",
       "\\item[jimmy] 100\n",
       "\\item[nicker] 59\n",
       "\\end{description*}\n"
      ],
      "text/markdown": [
       "jimmy\n",
       ":   100nicker\n",
       ":   59\n",
       "\n"
      ],
      "text/plain": [
       " jimmy nicker \n",
       "   100     59 "
      ]
     },
     "metadata": {},
     "output_type": "display_data"
    },
    {
     "data": {
      "text/html": [
       "<style>\n",
       ".list-inline {list-style: none; margin:0; padding: 0}\n",
       ".list-inline>li {display: inline-block}\n",
       ".list-inline>li:not(:last-child)::after {content: \"\\00b7\"; padding: 0 .5ex}\n",
       "</style>\n",
       "<ol class=list-inline><li>'jimmy'</li><li>'Damon'</li><li>'Sophie'</li></ol>\n"
      ],
      "text/latex": [
       "\\begin{enumerate*}\n",
       "\\item 'jimmy'\n",
       "\\item 'Damon'\n",
       "\\item 'Sophie'\n",
       "\\end{enumerate*}\n"
      ],
      "text/markdown": [
       "1. 'jimmy'\n",
       "2. 'Damon'\n",
       "3. 'Sophie'\n",
       "\n",
       "\n"
      ],
      "text/plain": [
       "[1] \"jimmy\"  \"Damon\"  \"Sophie\""
      ]
     },
     "metadata": {},
     "output_type": "display_data"
    }
   ],
   "source": [
    "scores <- c(100, 59, 73, 95, 45)\n",
    "names(scores) <- c(\"jimmy\", \"nicker\", \"Damon\", \"Sophie\", \"tony\") # 元素的名字，本质还是向量\n",
    "scores\n",
    "scores[\"jimmy\"]\n",
    "scores[c(\"jimmy\", \"nicker\")]\n",
    "\n",
    "names(scores)[scores > 60]\n"
   ]
  },
  {
   "cell_type": "code",
   "execution_count": 17,
   "metadata": {
    "vscode": {
     "languageId": "r"
    }
   },
   "outputs": [
    {
     "data": {
      "text/html": [
       "<table class=\"dataframe\">\n",
       "<caption>A matrix: 3 × 3 of type int</caption>\n",
       "<thead>\n",
       "\t<tr><th></th><th scope=col>a</th><th scope=col>b</th><th scope=col>c</th></tr>\n",
       "</thead>\n",
       "<tbody>\n",
       "\t<tr><th scope=row>x</th><td>1</td><td>4</td><td>7</td></tr>\n",
       "\t<tr><th scope=row>y</th><td>2</td><td>5</td><td>8</td></tr>\n",
       "\t<tr><th scope=row>z</th><td>3</td><td>6</td><td>9</td></tr>\n",
       "</tbody>\n",
       "</table>\n"
      ],
      "text/latex": [
       "A matrix: 3 × 3 of type int\n",
       "\\begin{tabular}{r|lll}\n",
       "  & a & b & c\\\\\n",
       "\\hline\n",
       "\tx & 1 & 4 & 7\\\\\n",
       "\ty & 2 & 5 & 8\\\\\n",
       "\tz & 3 & 6 & 9\\\\\n",
       "\\end{tabular}\n"
      ],
      "text/markdown": [
       "\n",
       "A matrix: 3 × 3 of type int\n",
       "\n",
       "| <!--/--> | a | b | c |\n",
       "|---|---|---|---|\n",
       "| x | 1 | 4 | 7 |\n",
       "| y | 2 | 5 | 8 |\n",
       "| z | 3 | 6 | 9 |\n",
       "\n"
      ],
      "text/plain": [
       "  a b c\n",
       "x 1 4 7\n",
       "y 2 5 8\n",
       "z 3 6 9"
      ]
     },
     "metadata": {},
     "output_type": "display_data"
    },
    {
     "data": {
      "text/html": [
       "<table class=\"dataframe\">\n",
       "<caption>A matrix: 3 × 3 of type int</caption>\n",
       "<thead>\n",
       "\t<tr><th></th><th scope=col>x</th><th scope=col>y</th><th scope=col>z</th></tr>\n",
       "</thead>\n",
       "<tbody>\n",
       "\t<tr><th scope=row>a</th><td>1</td><td>2</td><td>3</td></tr>\n",
       "\t<tr><th scope=row>b</th><td>4</td><td>5</td><td>6</td></tr>\n",
       "\t<tr><th scope=row>c</th><td>7</td><td>8</td><td>9</td></tr>\n",
       "</tbody>\n",
       "</table>\n"
      ],
      "text/latex": [
       "A matrix: 3 × 3 of type int\n",
       "\\begin{tabular}{r|lll}\n",
       "  & x & y & z\\\\\n",
       "\\hline\n",
       "\ta & 1 & 2 & 3\\\\\n",
       "\tb & 4 & 5 & 6\\\\\n",
       "\tc & 7 & 8 & 9\\\\\n",
       "\\end{tabular}\n"
      ],
      "text/markdown": [
       "\n",
       "A matrix: 3 × 3 of type int\n",
       "\n",
       "| <!--/--> | x | y | z |\n",
       "|---|---|---|---|\n",
       "| a | 1 | 2 | 3 |\n",
       "| b | 4 | 5 | 6 |\n",
       "| c | 7 | 8 | 9 |\n",
       "\n"
      ],
      "text/plain": [
       "  x y z\n",
       "a 1 2 3\n",
       "b 4 5 6\n",
       "c 7 8 9"
      ]
     },
     "metadata": {},
     "output_type": "display_data"
    }
   ],
   "source": [
    "m <- matrix(1:9, nrow = 3) # ncol是列，只需要写一个，另一个就默认了\n",
    "colnames(m) <- c(\"a\", \"b\", \"c\") # 加列名\n",
    "rownames(m) <- c(\"x\", \"y\", \"z\") # 加行名\n",
    "m\n",
    "t(m)\n"
   ]
  }
 ],
 "metadata": {
  "kernelspec": {
   "display_name": "R",
   "language": "R",
   "name": "ir"
  },
  "language_info": {
   "codemirror_mode": "r",
   "file_extension": ".r",
   "mimetype": "text/x-r-source",
   "name": "R",
   "pygments_lexer": "r",
   "version": "4.3.2"
  }
 },
 "nbformat": 4,
 "nbformat_minor": 2
}
